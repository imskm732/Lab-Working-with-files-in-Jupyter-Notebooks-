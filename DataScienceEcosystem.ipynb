{
 "cells": [
  {
   "cell_type": "markdown",
   "id": "4ccc39f3-7568-427e-a476-81ae0a39305e",
   "metadata": {},
   "source": [
    "# Data Science Tools and Ecosystem"
   ]
  },
  {
   "cell_type": "markdown",
   "id": "bdfd46f7-0f16-40eb-831b-56720674e051",
   "metadata": {},
   "source": [
    "In this notebook, Data Science Tools and Ecosystem are summarized."
   ]
  },
  {
   "cell_type": "markdown",
   "id": "81b7ffd3-19c4-4893-9121-dc7d74bf392f",
   "metadata": {},
   "source": [
    "**Objectives:**\n",
    "\n",
    "- List popular languages for Data Science.\n",
    "- Explore commonly used libraries in the Data Science field.\n",
    "- Understand key concepts and techniques used in Data Science.\n",
    "- Discover real-world applications of Data Science in various industries.\n",
    "- Learn about tools and frameworks for handling large datasets and performing data analysis.\n",
    "\n",
    "Here is the list of objectives covered in this notebook."
   ]
  },
  {
   "cell_type": "markdown",
   "id": "5b7ab2ed-97da-43fa-8089-ca5cfa7c67be",
   "metadata": {},
   "source": [
    "Some of the popular languages that Data Scientists use are: \n",
    "\n",
    "1. Python\n",
    "2. SQL\n",
    "3. R\n",
    "4. Julia\n",
    "5. JavaScript\n",
    "6. Scala\n",
    "7. Java\n",
    "8. Go\n",
    "9. MATLAB \n",
    "10. C/C++\n",
    "11. Statistical Analytical System (SAS)"
   ]
  },
  {
   "cell_type": "markdown",
   "id": "393e8822-8514-4987-acff-ca6fd34bdade",
   "metadata": {},
   "source": [
    "Some of the commonly used libraries used by Data Scientists include:\n",
    "1. Pandas\n",
    "2. Numpy\n",
    "3. Scikit-learn\n",
    "4. TensorFlow\n",
    "5. PyTorch"
   ]
  },
  {
   "cell_type": "markdown",
   "id": "c7b44f31-40bc-4986-a216-0f65b671bbc6",
   "metadata": {},
   "source": [
    "| Data Science Tools     |\n",
    "|------------------------|\n",
    "| Rstudio                |\n",
    "| Apache Spark           |\n",
    "| Apache Hadoop          |\n"
   ]
  },
  {
   "cell_type": "markdown",
   "id": "219c9e1f-c6e8-48ff-a9bb-81e44e0928e6",
   "metadata": {},
   "source": [
    "### Below are a few examples of evaluating arithmetic expressions in Python"
   ]
  },
  {
   "cell_type": "code",
   "execution_count": 1,
   "id": "262a6849-f63d-449a-96df-f46fdba14b70",
   "metadata": {
    "tags": []
   },
   "outputs": [
    {
     "data": {
      "text/plain": [
       "17"
      ]
     },
     "execution_count": 1,
     "metadata": {},
     "output_type": "execute_result"
    }
   ],
   "source": [
    "# This is a simple arithmetic expression to multiply then add integers.\n",
    "result = (3 * 4) + 5\n",
    "result\n"
   ]
  },
  {
   "cell_type": "code",
   "execution_count": 2,
   "id": "57d672af-5e42-477b-a116-33ff0cb7559d",
   "metadata": {
    "tags": []
   },
   "outputs": [
    {
     "data": {
      "text/plain": [
       "3.3333333333333335"
      ]
     },
     "execution_count": 2,
     "metadata": {},
     "output_type": "execute_result"
    }
   ],
   "source": [
    "# This will convert 200 minutes to hours by dividing by 60.\n",
    "minutes = 200\n",
    "hours = minutes / 60\n",
    "hours"
   ]
  },
  {
   "cell_type": "markdown",
   "id": "5ee62958-2bf6-4569-8625-ef8cd008b53a",
   "metadata": {},
   "source": [
    "## Author\n",
    "Sumit Kumar Mahanand\n"
   ]
  }
 ],
 "metadata": {
  "kernelspec": {
   "display_name": "Python",
   "language": "python",
   "name": "conda-env-python-py"
  },
  "language_info": {
   "codemirror_mode": {
    "name": "ipython",
    "version": 3
   },
   "file_extension": ".py",
   "mimetype": "text/x-python",
   "name": "python",
   "nbconvert_exporter": "python",
   "pygments_lexer": "ipython3",
   "version": "3.7.12"
  }
 },
 "nbformat": 4,
 "nbformat_minor": 5
}
